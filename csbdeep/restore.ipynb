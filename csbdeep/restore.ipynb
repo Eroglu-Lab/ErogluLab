{
 "cells": [
  {
   "cell_type": "code",
   "execution_count": null,
   "metadata": {
    "scrolled": true
   },
   "outputs": [],
   "source": [
    "#justclickrun #easy-peasy\n",
    "\n",
    "from __future__ import print_function, unicode_literals, absolute_import, division\n",
    "import numpy as np\n",
    "import matplotlib.pyplot as plt\n",
    "import tkinter as tk\n",
    "import os\n",
    "%gui tk\n",
    "%matplotlib inline\n",
    "%config InlineBackend.figure_format = 'retina'\n",
    "\n",
    "from tifffile import imread\n",
    "from tkinter import filedialog\n",
    "from csbdeep.utils import Path, plot_some\n",
    "from csbdeep.io import save_tiff_imagej_compatible\n",
    "from csbdeep.models import CARE\n",
    "from IPython.display import clear_output\n",
    "from tqdm import tqdm\n",
    "\n",
    "root = tk.Tk()\n",
    "root.withdraw()\n",
    "root.call('wm', 'attributes', '.', '-topmost', True)\n",
    "\n",
    "chan = int(input(\"Number of channels: \"))\n",
    "directory = filedialog.askdirectory(title=\"Choose big folder directory\")\n",
    "\n",
    "models = list()\n",
    "for i in range(chan):\n",
    "    i = i + 1\n",
    "    modeldir = filedialog.askdirectory(title=\"Choose model \" + str(i), initialdir=os.path.dirname(\"models/\"))\n",
    "    models.append(CARE(config=None, name=str.split(modeldir, \"/\")[-1], basedir=modeldir + \"/../\"))\n",
    "\n",
    "for root, dirs, files in os.walk(directory):\n",
    "    for i in dirs:\n",
    "        if i.endswith(\"tiff\"): # Processed folder from step 1\n",
    "            filecounter = 0\n",
    "            for x in os.scandir(directory + \"/\" + i):\n",
    "                filecounter += 1\n",
    "                \n",
    "            for file in tqdm(os.scandir(directory + \"/\" + i), total=filecounter, unit=\"files\"):\n",
    "                if file.name.endswith(\".tif\"):\n",
    "                    current = imread(file.path)\n",
    "                    size = current.shape\n",
    "                    result = np.zeros(size)\n",
    "                    print(file.path)\n",
    "                    for c in range(chan):\n",
    "                        print('Channel ' + str(c+1))\n",
    "                        result[:,c,:,:] = models[c].predict(current[:,c,:,:], 'ZYX', n_tiles=(1,1,1))\n",
    "                    Path(directory + \"/\" + i[:-4] + 'restored').mkdir(exist_ok=True)\n",
    "                    save_tiff_imagej_compatible(directory + \"/\" + i[:-4] + 'restored/%s' % file.name, result, 'ZCYX')\n",
    "                    clear_output(wait=True)\n",
    "print(\"Done!\")"
   ]
  },
  {
   "cell_type": "code",
   "execution_count": null,
   "metadata": {},
   "outputs": [],
   "source": []
  },
  {
   "cell_type": "code",
   "execution_count": null,
   "metadata": {},
   "outputs": [],
   "source": []
  }
 ],
 "metadata": {
  "kernelspec": {
   "display_name": "Python 3",
   "language": "python",
   "name": "python3"
  },
  "language_info": {
   "codemirror_mode": {
    "name": "ipython",
    "version": 3
   },
   "file_extension": ".py",
   "mimetype": "text/x-python",
   "name": "python",
   "nbconvert_exporter": "python",
   "pygments_lexer": "ipython3",
   "version": "3.6.7"
  }
 },
 "nbformat": 4,
 "nbformat_minor": 2
}
