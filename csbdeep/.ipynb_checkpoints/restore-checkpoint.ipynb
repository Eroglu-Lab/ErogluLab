{
 "cells": [
  {
   "cell_type": "code",
   "execution_count": 109,
   "metadata": {
    "scrolled": true
   },
   "outputs": [
    {
     "name": "stderr",
     "output_type": "stream",
     "text": [
      "\n",
      "100%|██████████| 1/1 [06:42<00:00, 402.83s/files]\u001b[A\n",
      "\u001b[A"
     ]
    },
    {
     "name": "stdout",
     "output_type": "stream",
     "text": [
      "Done!\n"
     ]
    }
   ],
   "source": [
    "from __future__ import print_function, unicode_literals, absolute_import, division\n",
    "import numpy as np\n",
    "import matplotlib.pyplot as plt\n",
    "import tkinter as tk\n",
    "import math\n",
    "import os\n",
    "%gui tk\n",
    "%matplotlib inline\n",
    "%config InlineBackend.figure_format = 'retina'\n",
    "\n",
    "from tifffile import imread\n",
    "from csbdeep.utils import Path, plot_some\n",
    "from csbdeep.io import save_tiff_imagej_compatible\n",
    "from csbdeep.models import CARE\n",
    "from IPython.display import clear_output\n",
    "from tqdm import tqdm\n",
    "\n",
    "def next_power_of_2(x):  \n",
    "    return 1 if x == 0 else 2**(x - 1).bit_length()\n",
    "\n",
    "def subdivide():\n",
    "    zslice = next_power_of_2(math.floor(size[0]/24)) # slice z if z > 24\n",
    "    \n",
    "    product = 1/zslice\n",
    "    for i in size: product *= i\n",
    "    \n",
    "    ref = 12*512*512\n",
    "    target = math.sqrt(product / ref)\n",
    "    yslice = next_power_of_2(math.floor(target)+1)\n",
    "    xslice = int(yslice / 2)\n",
    "    return (zslice, yslice, xslice)\n",
    "        \n",
    "\n",
    "root = tk.Tk()\n",
    "root.withdraw()\n",
    "root.call('wm', 'attributes', '.', '-topmost', True)\n",
    "\n",
    "chan = int(input(\"Number of channels: \"))\n",
    "directory = tk.filedialog.askdirectory(title=\"Choose folder directory\")\n",
    "\n",
    "models = list()\n",
    "for i in range(chan):\n",
    "    i = i + 1\n",
    "    modeldir = tk.filedialog.askdirectory(title=\"Choose model for channel \" + str(i),\n",
    "                                          initialdir=os.path.dirname(\"models/\"))\n",
    "    models.append(CARE(config=None, name=str.split(modeldir, \"/\")[-1], basedir=modeldir + \"/../\"))\n",
    "\n",
    "filecounter = 0\n",
    "for file in os.listdir(directory):\n",
    "    if file.endswith(\"tif\"): # Processed folder from step 1\n",
    "        filecounter += 1\n",
    "\n",
    "for file in tqdm(os.listdir(directory), total=filecounter, unit=\"files\"):\n",
    "    if file.endswith(\".tif\"):\n",
    "        current = imread(directory + \"/\" + file)\n",
    "        size = current.shape\n",
    "        result = np.zeros(size)\n",
    "        print(file)\n",
    "        if chan == 1:\n",
    "            result = models[0].predict(current, 'ZYX', n_tiles=subdivide())\n",
    "        else:\n",
    "            size = (size[0],) + size[2:] # Convert ZCYX to ZYX\n",
    "            for c in range(chan):\n",
    "                print('Channel ' + str(c+1))\n",
    "                result[:,c,:,:] = models[c].predict(current[:,c,:,:], 'ZYX', n_tiles=subdivide())\n",
    "        Path(directory + \"/Restored/\").mkdir(exist_ok=True)\n",
    "        save_tiff_imagej_compatible(directory + \"/Restored/%s\" % file, result, 'ZCYX')\n",
    "        clear_output(wait=True)\n",
    "print(\"Done!\")"
   ]
  }
 ],
 "metadata": {
  "kernelspec": {
   "display_name": "Python 3",
   "language": "python",
   "name": "python3"
  },
  "language_info": {
   "codemirror_mode": {
    "name": "ipython",
    "version": 3
   },
   "file_extension": ".py",
   "mimetype": "text/x-python",
   "name": "python",
   "nbconvert_exporter": "python",
   "pygments_lexer": "ipython3",
   "version": "3.6.7"
  }
 },
 "nbformat": 4,
 "nbformat_minor": 2
}
