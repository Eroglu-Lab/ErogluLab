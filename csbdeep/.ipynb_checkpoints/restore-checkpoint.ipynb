{
 "cells": [
  {
   "cell_type": "code",
   "execution_count": null,
   "metadata": {
    "scrolled": true
   },
   "outputs": [
    {
     "name": "stdout",
     "output_type": "stream",
     "text": [
      "Number of channels: 2\n",
      "Loading network weights from 'weights_best.h5'.\n",
      "Loading network weights from 'weights_best.h5'.\n"
     ]
    },
    {
     "name": "stderr",
     "output_type": "stream",
     "text": [
      "\r",
      "  0%|                                                                                         | 0/2 [00:00<?, ?files/s]"
     ]
    },
    {
     "name": "stdout",
     "output_type": "stream",
     "text": [
      "2channels.tif\n",
      "Channel 1\n",
      "9.2\n"
     ]
    },
    {
     "name": "stderr",
     "output_type": "stream",
     "text": [
      "\n",
      "  0%|                                                                                            | 0/8 [00:00<?, ?it/s]\n",
      " 12%|███████████▌                                                                                | 1/8 [00:00<?, ?it/s]\n",
      " 25%|█████████████████████                                                               | 2/8 [00:00<00:01,  4.21it/s]\n",
      " 25%|█████████████████████                                                               | 2/8 [00:00<00:01,  4.21it/s]\n",
      " 38%|███████████████████████████████▌                                                    | 3/8 [00:01<00:01,  2.87it/s]\n",
      " 38%|███████████████████████████████▌                                                    | 3/8 [00:01<00:01,  2.87it/s]\n",
      " 50%|██████████████████████████████████████████                                          | 4/8 [00:01<00:01,  2.35it/s]\n",
      " 50%|██████████████████████████████████████████                                          | 4/8 [00:01<00:01,  2.35it/s]\n",
      " 62%|████████████████████████████████████████████████████▌                               | 5/8 [00:02<00:01,  2.06it/s]\n",
      " 62%|████████████████████████████████████████████████████▌                               | 5/8 [00:02<00:01,  2.06it/s]\n",
      " 75%|███████████████████████████████████████████████████████████████                     | 6/8 [00:02<00:01,  1.92it/s]\n",
      " 75%|███████████████████████████████████████████████████████████████                     | 6/8 [00:02<00:01,  1.92it/s]\n",
      " 88%|█████████████████████████████████████████████████████████████████████████▌          | 7/8 [00:03<00:00,  1.95it/s]\n",
      " 88%|█████████████████████████████████████████████████████████████████████████▌          | 7/8 [00:03<00:00,  1.95it/s]\n",
      "100%|████████████████████████████████████████████████████████████████████████████████████| 8/8 [00:03<00:00,  1.98it/s]\n",
      "100%|████████████████████████████████████████████████████████████████████████████████████| 8/8 [00:03<00:00,  1.98it/s]\n"
     ]
    },
    {
     "name": "stdout",
     "output_type": "stream",
     "text": [
      "Channel 2\n",
      "9.2\n"
     ]
    },
    {
     "name": "stderr",
     "output_type": "stream",
     "text": [
      "\n",
      "  0%|                                                                                            | 0/8 [00:00<?, ?it/s]\n",
      " 12%|███████████▌                                                                                | 1/8 [00:00<?, ?it/s]\n",
      " 25%|█████████████████████                                                               | 2/8 [00:00<00:01,  4.09it/s]\n",
      " 25%|█████████████████████                                                               | 2/8 [00:00<00:01,  4.09it/s]\n",
      " 38%|███████████████████████████████▌                                                    | 3/8 [00:01<00:01,  2.88it/s]\n",
      " 38%|███████████████████████████████▌                                                    | 3/8 [00:01<00:01,  2.88it/s]\n",
      " 50%|██████████████████████████████████████████                                          | 4/8 [00:01<00:01,  2.33it/s]\n",
      " 50%|██████████████████████████████████████████                                          | 4/8 [00:01<00:01,  2.33it/s]\n",
      " 62%|████████████████████████████████████████████████████▌                               | 5/8 [00:02<00:01,  2.06it/s]\n",
      " 62%|████████████████████████████████████████████████████▌                               | 5/8 [00:02<00:01,  2.06it/s]\n",
      " 75%|███████████████████████████████████████████████████████████████                     | 6/8 [00:02<00:01,  1.91it/s]\n",
      " 75%|███████████████████████████████████████████████████████████████                     | 6/8 [00:02<00:01,  1.91it/s]\n",
      " 88%|█████████████████████████████████████████████████████████████████████████▌          | 7/8 [00:03<00:00,  1.92it/s]\n",
      " 88%|█████████████████████████████████████████████████████████████████████████▌          | 7/8 [00:03<00:00,  1.92it/s]"
     ]
    }
   ],
   "source": [
    "from __future__ import print_function, unicode_literals, absolute_import, division\n",
    "import numpy as np\n",
    "import matplotlib.pyplot as plt\n",
    "import tkinter as tk\n",
    "import math\n",
    "import os\n",
    "%gui tk\n",
    "%matplotlib inline\n",
    "%config InlineBackend.figure_format = 'retina'\n",
    "\n",
    "from tifffile import imread\n",
    "from tkinter import filedialog\n",
    "from csbdeep.utils import Path, plot_some\n",
    "from csbdeep.io import save_tiff_imagej_compatible\n",
    "from csbdeep.models import CARE\n",
    "from IPython.display import clear_output\n",
    "from tqdm import tqdm\n",
    "\n",
    "def next_power_of_2(x):  \n",
    "    return 1 if x == 0 else 2**(x - 1).bit_length()\n",
    "\n",
    "def subdivide():\n",
    "    product = 1\n",
    "    for i in size: product *= i\n",
    "    \n",
    "    ref = 10*512*512\n",
    "    target = math.sqrt(product / ref)\n",
    "    zslice = 1\n",
    "    yslice = next_power_of_2(math.floor(target)+1)\n",
    "    xslice = int(yslice / 2)\n",
    "    return (zslice, yslice, xslice)\n",
    "\n",
    "root = tk.Tk()\n",
    "root.withdraw()\n",
    "root.call('wm', 'attributes', '.', '-topmost', True)\n",
    "\n",
    "chan = int(input(\"Number of channels: \"))\n",
    "directory = filedialog.askdirectory(title=\"Choose folder directory\")\n",
    "\n",
    "models = list()\n",
    "for i in range(chan):\n",
    "    i = i + 1\n",
    "    modeldir = filedialog.askdirectory(title=\"Choose model for channel \" + str(i),\n",
    "                                          initialdir=os.path.dirname(\"models/\"))\n",
    "    models.append(CARE(config=None, name=str.split(modeldir, \"/\")[-1], basedir=modeldir + \"/../\"))\n",
    "\n",
    "filecounter = 0\n",
    "for file in os.listdir(directory):\n",
    "    if file.endswith(\"tif\"): # Processed folder from step 1\n",
    "        filecounter += 1\n",
    "\n",
    "for file in tqdm(os.listdir(directory), total=filecounter, unit=\"files\"):\n",
    "    if file.endswith(\".tif\"):\n",
    "        current = imread(directory + \"/\" + file)\n",
    "        size = current.shape\n",
    "        result = np.zeros(size)\n",
    "        print(file)\n",
    "        if chan == 1:\n",
    "            result = models[0].predict(current, 'ZYX', n_tiles=subdivide())\n",
    "        else:\n",
    "            size = (size[0],) + size[2:] # Convert ZCYX to ZYX\n",
    "            for c in range(chan):\n",
    "                print('Channel ' + str(c+1))\n",
    "                result[:,c,:,:] = models[c].predict(current[:,c,:,:], 'ZYX', n_tiles=subdivide())\n",
    "        Path(directory + \"/Restored/\").mkdir(exist_ok=True)\n",
    "        if chan == 1:\n",
    "            save_tiff_imagej_compatible(directory + \"/Restored/%s\" % file, result, 'ZYX')\n",
    "        else:\n",
    "            save_tiff_imagej_compatible(directory + \"/Restored/%s\" % file, result, 'ZCYX')\n",
    "        clear_output(wait=True)\n",
    "print(\"Done!\")"
   ]
  },
  {
   "cell_type": "code",
   "execution_count": null,
   "metadata": {},
   "outputs": [],
   "source": []
  }
 ],
 "metadata": {
  "kernelspec": {
   "display_name": "Python 3",
   "language": "python",
   "name": "python3"
  },
  "language_info": {
   "codemirror_mode": {
    "name": "ipython",
    "version": 3
   },
   "file_extension": ".py",
   "mimetype": "text/x-python",
   "name": "python",
   "nbconvert_exporter": "python",
   "pygments_lexer": "ipython3",
   "version": "3.6.7"
  }
 },
 "nbformat": 4,
 "nbformat_minor": 2
}
